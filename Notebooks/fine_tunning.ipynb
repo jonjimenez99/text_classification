{
 "cells": [
  {
   "cell_type": "code",
   "execution_count": 1,
   "metadata": {},
   "outputs": [
    {
     "name": "stdout",
     "output_type": "stream",
     "text": [
      "Requirement already satisfied: matplotlib in /Users/familiasofi/Documents/Repositorios_GitHub/cv_recommendations/venv/lib/python3.9/site-packages (3.9.2)\n",
      "Requirement already satisfied: python-dateutil>=2.7 in /Users/familiasofi/Documents/Repositorios_GitHub/cv_recommendations/venv/lib/python3.9/site-packages (from matplotlib) (2.9.0.post0)\n",
      "Requirement already satisfied: packaging>=20.0 in /Users/familiasofi/Documents/Repositorios_GitHub/cv_recommendations/venv/lib/python3.9/site-packages (from matplotlib) (24.2)\n",
      "Requirement already satisfied: contourpy>=1.0.1 in /Users/familiasofi/Documents/Repositorios_GitHub/cv_recommendations/venv/lib/python3.9/site-packages (from matplotlib) (1.3.0)\n",
      "Requirement already satisfied: pillow>=8 in /Users/familiasofi/Documents/Repositorios_GitHub/cv_recommendations/venv/lib/python3.9/site-packages (from matplotlib) (11.0.0)\n",
      "Requirement already satisfied: pyparsing>=2.3.1 in /Users/familiasofi/Documents/Repositorios_GitHub/cv_recommendations/venv/lib/python3.9/site-packages (from matplotlib) (3.2.0)\n",
      "Requirement already satisfied: fonttools>=4.22.0 in /Users/familiasofi/Documents/Repositorios_GitHub/cv_recommendations/venv/lib/python3.9/site-packages (from matplotlib) (4.54.1)\n",
      "Requirement already satisfied: kiwisolver>=1.3.1 in /Users/familiasofi/Documents/Repositorios_GitHub/cv_recommendations/venv/lib/python3.9/site-packages (from matplotlib) (1.4.7)\n",
      "Requirement already satisfied: numpy>=1.23 in /Users/familiasofi/Documents/Repositorios_GitHub/cv_recommendations/venv/lib/python3.9/site-packages (from matplotlib) (1.26.4)\n",
      "Requirement already satisfied: importlib-resources>=3.2.0 in /Users/familiasofi/Documents/Repositorios_GitHub/cv_recommendations/venv/lib/python3.9/site-packages (from matplotlib) (6.4.5)\n",
      "Requirement already satisfied: cycler>=0.10 in /Users/familiasofi/Documents/Repositorios_GitHub/cv_recommendations/venv/lib/python3.9/site-packages (from matplotlib) (0.12.1)\n",
      "Requirement already satisfied: zipp>=3.1.0 in /Users/familiasofi/Documents/Repositorios_GitHub/cv_recommendations/venv/lib/python3.9/site-packages (from importlib-resources>=3.2.0->matplotlib) (3.20.2)\n",
      "Requirement already satisfied: six>=1.5 in /Users/familiasofi/Documents/Repositorios_GitHub/cv_recommendations/venv/lib/python3.9/site-packages (from python-dateutil>=2.7->matplotlib) (1.16.0)\n",
      "\n",
      "\u001b[1m[\u001b[0m\u001b[34;49mnotice\u001b[0m\u001b[1;39;49m]\u001b[0m\u001b[39;49m A new release of pip is available: \u001b[0m\u001b[31;49m23.0.1\u001b[0m\u001b[39;49m -> \u001b[0m\u001b[32;49m24.3.1\u001b[0m\n",
      "\u001b[1m[\u001b[0m\u001b[34;49mnotice\u001b[0m\u001b[1;39;49m]\u001b[0m\u001b[39;49m To update, run: \u001b[0m\u001b[32;49mpip install --upgrade pip\u001b[0m\n",
      "Requirement already satisfied: optimum in /Users/familiasofi/Documents/Repositorios_GitHub/cv_recommendations/venv/lib/python3.9/site-packages (1.23.3)\n",
      "Requirement already satisfied: torch>=1.11 in /Users/familiasofi/Documents/Repositorios_GitHub/cv_recommendations/venv/lib/python3.9/site-packages (from optimum) (2.2.2)\n",
      "Requirement already satisfied: packaging in /Users/familiasofi/Documents/Repositorios_GitHub/cv_recommendations/venv/lib/python3.9/site-packages (from optimum) (24.2)\n",
      "Requirement already satisfied: transformers>=4.29 in /Users/familiasofi/Documents/Repositorios_GitHub/cv_recommendations/venv/lib/python3.9/site-packages (from optimum) (4.46.2)\n",
      "Requirement already satisfied: sympy in /Users/familiasofi/Documents/Repositorios_GitHub/cv_recommendations/venv/lib/python3.9/site-packages (from optimum) (1.13.3)\n",
      "Requirement already satisfied: numpy in /Users/familiasofi/Documents/Repositorios_GitHub/cv_recommendations/venv/lib/python3.9/site-packages (from optimum) (1.26.4)\n",
      "Requirement already satisfied: datasets in /Users/familiasofi/Documents/Repositorios_GitHub/cv_recommendations/venv/lib/python3.9/site-packages (from optimum) (3.1.0)\n",
      "Requirement already satisfied: coloredlogs in /Users/familiasofi/Documents/Repositorios_GitHub/cv_recommendations/venv/lib/python3.9/site-packages (from optimum) (15.0.1)\n",
      "Requirement already satisfied: huggingface-hub>=0.8.0 in /Users/familiasofi/Documents/Repositorios_GitHub/cv_recommendations/venv/lib/python3.9/site-packages (from optimum) (0.26.2)\n",
      "Requirement already satisfied: fsspec>=2023.5.0 in /Users/familiasofi/Documents/Repositorios_GitHub/cv_recommendations/venv/lib/python3.9/site-packages (from huggingface-hub>=0.8.0->optimum) (2024.9.0)\n",
      "Requirement already satisfied: requests in /Users/familiasofi/Documents/Repositorios_GitHub/cv_recommendations/venv/lib/python3.9/site-packages (from huggingface-hub>=0.8.0->optimum) (2.32.3)\n",
      "Requirement already satisfied: typing-extensions>=3.7.4.3 in /Users/familiasofi/Documents/Repositorios_GitHub/cv_recommendations/venv/lib/python3.9/site-packages (from huggingface-hub>=0.8.0->optimum) (4.12.2)\n",
      "Requirement already satisfied: pyyaml>=5.1 in /Users/familiasofi/Documents/Repositorios_GitHub/cv_recommendations/venv/lib/python3.9/site-packages (from huggingface-hub>=0.8.0->optimum) (6.0.2)\n",
      "Requirement already satisfied: filelock in /Users/familiasofi/Documents/Repositorios_GitHub/cv_recommendations/venv/lib/python3.9/site-packages (from huggingface-hub>=0.8.0->optimum) (3.16.1)\n",
      "Requirement already satisfied: tqdm>=4.42.1 in /Users/familiasofi/Documents/Repositorios_GitHub/cv_recommendations/venv/lib/python3.9/site-packages (from huggingface-hub>=0.8.0->optimum) (4.67.0)\n",
      "Requirement already satisfied: jinja2 in /Users/familiasofi/Documents/Repositorios_GitHub/cv_recommendations/venv/lib/python3.9/site-packages (from torch>=1.11->optimum) (3.1.4)\n",
      "Requirement already satisfied: networkx in /Users/familiasofi/Documents/Repositorios_GitHub/cv_recommendations/venv/lib/python3.9/site-packages (from torch>=1.11->optimum) (3.2.1)\n",
      "Requirement already satisfied: safetensors>=0.4.1 in /Users/familiasofi/Documents/Repositorios_GitHub/cv_recommendations/venv/lib/python3.9/site-packages (from transformers>=4.29->optimum) (0.4.5)\n",
      "Requirement already satisfied: tokenizers<0.21,>=0.20 in /Users/familiasofi/Documents/Repositorios_GitHub/cv_recommendations/venv/lib/python3.9/site-packages (from transformers>=4.29->optimum) (0.20.3)\n",
      "Requirement already satisfied: regex!=2019.12.17 in /Users/familiasofi/Documents/Repositorios_GitHub/cv_recommendations/venv/lib/python3.9/site-packages (from transformers>=4.29->optimum) (2024.11.6)\n",
      "Requirement already satisfied: humanfriendly>=9.1 in /Users/familiasofi/Documents/Repositorios_GitHub/cv_recommendations/venv/lib/python3.9/site-packages (from coloredlogs->optimum) (10.0)\n",
      "Requirement already satisfied: multiprocess<0.70.17 in /Users/familiasofi/Documents/Repositorios_GitHub/cv_recommendations/venv/lib/python3.9/site-packages (from datasets->optimum) (0.70.16)\n",
      "Requirement already satisfied: pandas in /Users/familiasofi/Documents/Repositorios_GitHub/cv_recommendations/venv/lib/python3.9/site-packages (from datasets->optimum) (2.2.3)\n",
      "Requirement already satisfied: dill<0.3.9,>=0.3.0 in /Users/familiasofi/Documents/Repositorios_GitHub/cv_recommendations/venv/lib/python3.9/site-packages (from datasets->optimum) (0.3.8)\n",
      "Requirement already satisfied: pyarrow>=15.0.0 in /Users/familiasofi/Documents/Repositorios_GitHub/cv_recommendations/venv/lib/python3.9/site-packages (from datasets->optimum) (18.0.0)\n",
      "Requirement already satisfied: aiohttp in /Users/familiasofi/Documents/Repositorios_GitHub/cv_recommendations/venv/lib/python3.9/site-packages (from datasets->optimum) (3.10.10)\n",
      "Requirement already satisfied: xxhash in /Users/familiasofi/Documents/Repositorios_GitHub/cv_recommendations/venv/lib/python3.9/site-packages (from datasets->optimum) (3.5.0)\n",
      "Requirement already satisfied: mpmath<1.4,>=1.1.0 in /Users/familiasofi/Documents/Repositorios_GitHub/cv_recommendations/venv/lib/python3.9/site-packages (from sympy->optimum) (1.3.0)\n",
      "Requirement already satisfied: aiohappyeyeballs>=2.3.0 in /Users/familiasofi/Documents/Repositorios_GitHub/cv_recommendations/venv/lib/python3.9/site-packages (from aiohttp->datasets->optimum) (2.4.3)\n",
      "Requirement already satisfied: frozenlist>=1.1.1 in /Users/familiasofi/Documents/Repositorios_GitHub/cv_recommendations/venv/lib/python3.9/site-packages (from aiohttp->datasets->optimum) (1.5.0)\n",
      "Requirement already satisfied: aiosignal>=1.1.2 in /Users/familiasofi/Documents/Repositorios_GitHub/cv_recommendations/venv/lib/python3.9/site-packages (from aiohttp->datasets->optimum) (1.3.1)\n",
      "Requirement already satisfied: multidict<7.0,>=4.5 in /Users/familiasofi/Documents/Repositorios_GitHub/cv_recommendations/venv/lib/python3.9/site-packages (from aiohttp->datasets->optimum) (6.1.0)\n",
      "Requirement already satisfied: async-timeout<5.0,>=4.0 in /Users/familiasofi/Documents/Repositorios_GitHub/cv_recommendations/venv/lib/python3.9/site-packages (from aiohttp->datasets->optimum) (4.0.3)\n",
      "Requirement already satisfied: attrs>=17.3.0 in /Users/familiasofi/Documents/Repositorios_GitHub/cv_recommendations/venv/lib/python3.9/site-packages (from aiohttp->datasets->optimum) (24.2.0)\n",
      "Requirement already satisfied: yarl<2.0,>=1.12.0 in /Users/familiasofi/Documents/Repositorios_GitHub/cv_recommendations/venv/lib/python3.9/site-packages (from aiohttp->datasets->optimum) (1.17.1)\n",
      "Requirement already satisfied: urllib3<3,>=1.21.1 in /Users/familiasofi/Documents/Repositorios_GitHub/cv_recommendations/venv/lib/python3.9/site-packages (from requests->huggingface-hub>=0.8.0->optimum) (2.2.3)\n",
      "Requirement already satisfied: idna<4,>=2.5 in /Users/familiasofi/Documents/Repositorios_GitHub/cv_recommendations/venv/lib/python3.9/site-packages (from requests->huggingface-hub>=0.8.0->optimum) (3.10)\n",
      "Requirement already satisfied: certifi>=2017.4.17 in /Users/familiasofi/Documents/Repositorios_GitHub/cv_recommendations/venv/lib/python3.9/site-packages (from requests->huggingface-hub>=0.8.0->optimum) (2024.8.30)\n",
      "Requirement already satisfied: charset-normalizer<4,>=2 in /Users/familiasofi/Documents/Repositorios_GitHub/cv_recommendations/venv/lib/python3.9/site-packages (from requests->huggingface-hub>=0.8.0->optimum) (3.4.0)\n",
      "Requirement already satisfied: MarkupSafe>=2.0 in /Users/familiasofi/Documents/Repositorios_GitHub/cv_recommendations/venv/lib/python3.9/site-packages (from jinja2->torch>=1.11->optimum) (3.0.2)\n",
      "Requirement already satisfied: python-dateutil>=2.8.2 in /Users/familiasofi/Documents/Repositorios_GitHub/cv_recommendations/venv/lib/python3.9/site-packages (from pandas->datasets->optimum) (2.9.0.post0)\n",
      "Requirement already satisfied: pytz>=2020.1 in /Users/familiasofi/Documents/Repositorios_GitHub/cv_recommendations/venv/lib/python3.9/site-packages (from pandas->datasets->optimum) (2024.2)\n",
      "Requirement already satisfied: tzdata>=2022.7 in /Users/familiasofi/Documents/Repositorios_GitHub/cv_recommendations/venv/lib/python3.9/site-packages (from pandas->datasets->optimum) (2024.2)\n",
      "Requirement already satisfied: six>=1.5 in /Users/familiasofi/Documents/Repositorios_GitHub/cv_recommendations/venv/lib/python3.9/site-packages (from python-dateutil>=2.8.2->pandas->datasets->optimum) (1.16.0)\n",
      "Requirement already satisfied: propcache>=0.2.0 in /Users/familiasofi/Documents/Repositorios_GitHub/cv_recommendations/venv/lib/python3.9/site-packages (from yarl<2.0,>=1.12.0->aiohttp->datasets->optimum) (0.2.0)\n",
      "\n",
      "\u001b[1m[\u001b[0m\u001b[34;49mnotice\u001b[0m\u001b[1;39;49m]\u001b[0m\u001b[39;49m A new release of pip is available: \u001b[0m\u001b[31;49m23.0.1\u001b[0m\u001b[39;49m -> \u001b[0m\u001b[32;49m24.3.1\u001b[0m\n",
      "\u001b[1m[\u001b[0m\u001b[34;49mnotice\u001b[0m\u001b[1;39;49m]\u001b[0m\u001b[39;49m To update, run: \u001b[0m\u001b[32;49mpip install --upgrade pip\u001b[0m\n",
      "Requirement already satisfied: onnxruntime in /Users/familiasofi/Documents/Repositorios_GitHub/cv_recommendations/venv/lib/python3.9/site-packages (1.19.2)\n",
      "Requirement already satisfied: flatbuffers in /Users/familiasofi/Documents/Repositorios_GitHub/cv_recommendations/venv/lib/python3.9/site-packages (from onnxruntime) (24.3.25)\n",
      "Requirement already satisfied: numpy>=1.21.6 in /Users/familiasofi/Documents/Repositorios_GitHub/cv_recommendations/venv/lib/python3.9/site-packages (from onnxruntime) (1.26.4)\n",
      "Requirement already satisfied: coloredlogs in /Users/familiasofi/Documents/Repositorios_GitHub/cv_recommendations/venv/lib/python3.9/site-packages (from onnxruntime) (15.0.1)\n",
      "Requirement already satisfied: sympy in /Users/familiasofi/Documents/Repositorios_GitHub/cv_recommendations/venv/lib/python3.9/site-packages (from onnxruntime) (1.13.3)\n",
      "Requirement already satisfied: protobuf in /Users/familiasofi/Documents/Repositorios_GitHub/cv_recommendations/venv/lib/python3.9/site-packages (from onnxruntime) (5.28.3)\n",
      "Requirement already satisfied: packaging in /Users/familiasofi/Documents/Repositorios_GitHub/cv_recommendations/venv/lib/python3.9/site-packages (from onnxruntime) (24.2)\n",
      "Requirement already satisfied: humanfriendly>=9.1 in /Users/familiasofi/Documents/Repositorios_GitHub/cv_recommendations/venv/lib/python3.9/site-packages (from coloredlogs->onnxruntime) (10.0)\n",
      "Requirement already satisfied: mpmath<1.4,>=1.1.0 in /Users/familiasofi/Documents/Repositorios_GitHub/cv_recommendations/venv/lib/python3.9/site-packages (from sympy->onnxruntime) (1.3.0)\n",
      "\n",
      "\u001b[1m[\u001b[0m\u001b[34;49mnotice\u001b[0m\u001b[1;39;49m]\u001b[0m\u001b[39;49m A new release of pip is available: \u001b[0m\u001b[31;49m23.0.1\u001b[0m\u001b[39;49m -> \u001b[0m\u001b[32;49m24.3.1\u001b[0m\n",
      "\u001b[1m[\u001b[0m\u001b[34;49mnotice\u001b[0m\u001b[1;39;49m]\u001b[0m\u001b[39;49m To update, run: \u001b[0m\u001b[32;49mpip install --upgrade pip\u001b[0m\n",
      "Requirement already satisfied: onnx in /Users/familiasofi/Documents/Repositorios_GitHub/cv_recommendations/venv/lib/python3.9/site-packages (1.17.0)\n",
      "Requirement already satisfied: numpy>=1.20 in /Users/familiasofi/Documents/Repositorios_GitHub/cv_recommendations/venv/lib/python3.9/site-packages (from onnx) (1.26.4)\n",
      "Requirement already satisfied: protobuf>=3.20.2 in /Users/familiasofi/Documents/Repositorios_GitHub/cv_recommendations/venv/lib/python3.9/site-packages (from onnx) (5.28.3)\n",
      "\n",
      "\u001b[1m[\u001b[0m\u001b[34;49mnotice\u001b[0m\u001b[1;39;49m]\u001b[0m\u001b[39;49m A new release of pip is available: \u001b[0m\u001b[31;49m23.0.1\u001b[0m\u001b[39;49m -> \u001b[0m\u001b[32;49m24.3.1\u001b[0m\n",
      "\u001b[1m[\u001b[0m\u001b[34;49mnotice\u001b[0m\u001b[1;39;49m]\u001b[0m\u001b[39;49m To update, run: \u001b[0m\u001b[32;49mpip install --upgrade pip\u001b[0m\n",
      "Collecting cupy\n",
      "  Using cached cupy-13.3.0.tar.gz (3.4 MB)\n",
      "  Preparing metadata (setup.py) ... \u001b[?25lerror\n",
      "  \u001b[1;31merror\u001b[0m: \u001b[1msubprocess-exited-with-error\u001b[0m\n",
      "  \n",
      "  \u001b[31m×\u001b[0m \u001b[32mpython setup.py egg_info\u001b[0m did not run successfully.\n",
      "  \u001b[31m│\u001b[0m exit code: \u001b[1;36m1\u001b[0m\n",
      "  \u001b[31m╰─>\u001b[0m \u001b[31m[3 lines of output]\u001b[0m\n",
      "  \u001b[31m   \u001b[0m Generating cache key from header files...\n",
      "  \u001b[31m   \u001b[0m Cache key (1610 files matching /private/var/folders/l1/xn4zqt856pd5q_jbvzm1xkz00000gn/T/pip-install-0h1r_rvz/cupy_5cc31775d3dc4c59a4092f7c7a596aa5/cupy/_core/include/**): 212566004acb2d0c63365be5b9ad9dfd9389ec88\n",
      "  \u001b[31m   \u001b[0m Error: macOS is no longer supported\n",
      "  \u001b[31m   \u001b[0m \u001b[31m[end of output]\u001b[0m\n",
      "  \n",
      "  \u001b[1;35mnote\u001b[0m: This error originates from a subprocess, and is likely not a problem with pip.\n",
      "\u001b[?25h\u001b[1;31merror\u001b[0m: \u001b[1mmetadata-generation-failed\u001b[0m\n",
      "\n",
      "\u001b[31m×\u001b[0m Encountered error while generating package metadata.\n",
      "\u001b[31m╰─>\u001b[0m See above for output.\n",
      "\n",
      "\u001b[1;35mnote\u001b[0m: This is an issue with the package mentioned above, not pip.\n",
      "\u001b[1;36mhint\u001b[0m: See above for details.\n",
      "\n",
      "\u001b[1m[\u001b[0m\u001b[34;49mnotice\u001b[0m\u001b[1;39;49m]\u001b[0m\u001b[39;49m A new release of pip is available: \u001b[0m\u001b[31;49m23.0.1\u001b[0m\u001b[39;49m -> \u001b[0m\u001b[32;49m24.3.1\u001b[0m\n",
      "\u001b[1m[\u001b[0m\u001b[34;49mnotice\u001b[0m\u001b[1;39;49m]\u001b[0m\u001b[39;49m To update, run: \u001b[0m\u001b[32;49mpip install --upgrade pip\u001b[0m\n"
     ]
    }
   ],
   "source": [
    "!pip install matplotlib\n",
    "!pip install optimum\n",
    "!pip install onnxruntime\n",
    "!pip install onnx\n",
    "!pip install cupy"
   ]
  },
  {
   "cell_type": "code",
   "execution_count": 101,
   "metadata": {},
   "outputs": [],
   "source": [
    "import pandas as pd\n",
    "import torch\n",
    "import time\n",
    "from transformers import DistilBertTokenizer, DistilBertForSequenceClassification, Trainer, TrainingArguments\n",
    "from optimum.onnxruntime import (\n",
    "    AutoQuantizationConfig,\n",
    "    ORTModelForSequenceClassification,\n",
    "    ORTQuantizer\n",
    ")\n",
    "from optimum.pipelines import pipeline\n",
    "import matplotlib.pyplot as plt\n",
    "import numpy as np\n",
    "\n",
    "# 1. Create a Dummy DataFrame for Fine-tuning\n",
    "data = {\n",
    "    \"text\": [\n",
    "        \"I bought a new laptop\",\n",
    "        \"The product is great\",\n",
    "        \"I want to return this item\",\n",
    "        \"Amazing customer service\",\n",
    "        \"I had a terrible experience\",\n",
    "        \"Great product but expensive\",\n",
    "        \"Worst purchase ever\"\n",
    "    ],\n",
    "    \"label\": [1, 0, 1, 0, 1, 0, 1]  # 1: Purchase-related, 0: Non-purchase-related\n",
    "}\n",
    "\n",
    "df = pd.DataFrame(data)"
   ]
  },
  {
   "cell_type": "code",
   "execution_count": 102,
   "metadata": {},
   "outputs": [],
   "source": [
    "import torch"
   ]
  },
  {
   "cell_type": "code",
   "execution_count": 103,
   "metadata": {},
   "outputs": [
    {
     "name": "stderr",
     "output_type": "stream",
     "text": [
      "Some weights of DistilBertForSequenceClassification were not initialized from the model checkpoint at distilbert-base-uncased and are newly initialized: ['classifier.bias', 'classifier.weight', 'pre_classifier.bias', 'pre_classifier.weight']\n",
      "You should probably TRAIN this model on a down-stream task to be able to use it for predictions and inference.\n",
      "Map: 100%|██████████| 7/7 [00:00<00:00, 907.58 examples/s]\n",
      "Map: 100%|██████████| 5/5 [00:00<00:00, 705.61 examples/s]\n",
      "100%|██████████| 1/1 [00:05<00:00,  5.57s/it]"
     ]
    },
    {
     "name": "stdout",
     "output_type": "stream",
     "text": [
      "{'train_runtime': 5.5718, 'train_samples_per_second': 0.897, 'train_steps_per_second': 0.179, 'train_loss': 0.709450900554657, 'epoch': 1.0}\n",
      "Tiempo de fine-tuning: 6.41 segundos\n"
     ]
    },
    {
     "name": "stderr",
     "output_type": "stream",
     "text": [
      "\n"
     ]
    }
   ],
   "source": [
    "from transformers import DistilBertTokenizer, DistilBertForSequenceClassification, Trainer, TrainingArguments\n",
    "from datasets import Dataset\n",
    "import time\n",
    "\n",
    "# Train-test split\n",
    "train_dataset, test_dataset = dataset.train_test_split(test_size=0.2).values()\n",
    "\n",
    "\n",
    "# Load tokenizer and pre-trained model:\n",
    "tokenizer = DistilBertTokenizer.from_pretrained('distilbert-base-uncased')\n",
    "model = DistilBertForSequenceClassification.from_pretrained('distilbert-base-uncased', num_labels=2)\n",
    "\n",
    "# Tokenizar el texto\n",
    "def tokenize_function(examples):\n",
    "    return tokenizer(examples['text'], padding='max_length', truncation=True)\n",
    "\n",
    "# Convert the DataFrame to Hugging Face Dataset\n",
    "dataset = Dataset.from_pandas(df)\n",
    "dataset = dataset.map(tokenize_function, batched=True)\n",
    "\n",
    "train_dataset = train_dataset.map(tokenize_function, batched=True)\n",
    "\n",
    "# Training arguments:\n",
    "training_args = TrainingArguments(\n",
    "    output_dir='./results',          # Directorio de salida\n",
    "    num_train_epochs=1,              # Número de épocas\n",
    "    per_device_train_batch_size=16,   # Tamaño del batch por dispositivo\n",
    "    logging_dir='./logs',            # Directorio de logs\n",
    "    logging_steps=10,\n",
    ")\n",
    "\n",
    "trainer = Trainer(\n",
    "    model=model,                         # El modelo a fine-tunear\n",
    "    args=training_args,                  # Argumentos de entrenamiento\n",
    "    train_dataset=train_dataset,         # Dataset de entrenamiento\n",
    ")\n",
    "\n",
    "# Measure training time:\n",
    "start_time = time.time()\n",
    "\n",
    "# Fine-tunning model:\n",
    "trainer.train()\n",
    "\n",
    "end_time = time.time()\n",
    "\n",
    "# Save training time:\n",
    "training_time = end_time - start_time\n",
    "\n",
    "print(f\"Tiempo de fine-tuning: {training_time:.2f} segundos\")"
   ]
  },
  {
   "cell_type": "code",
   "execution_count": 104,
   "metadata": {},
   "outputs": [
    {
     "data": {
      "text/plain": [
       "('./distilbert_finetuned/tokenizer_config.json',\n",
       " './distilbert_finetuned/special_tokens_map.json',\n",
       " './distilbert_finetuned/vocab.txt',\n",
       " './distilbert_finetuned/added_tokens.json')"
      ]
     },
     "execution_count": 104,
     "metadata": {},
     "output_type": "execute_result"
    }
   ],
   "source": [
    "# Save the fine-tuned model\n",
    "fine_tuned_model_dir = \"./distilbert_finetuned\"\n",
    "model.save_pretrained(fine_tuned_model_dir)\n",
    "tokenizer.save_pretrained(fine_tuned_model_dir)"
   ]
  },
  {
   "cell_type": "code",
   "execution_count": 105,
   "metadata": {},
   "outputs": [],
   "source": [
    "# Step 3: Export the fine-tuned model to ONNX\n",
    "onnx_save_dir = \"distilbert_finetuned_onnx\"\n",
    "ort_model = ORTModelForSequenceClassification.from_pretrained(fine_tuned_model_dir, export=True)\n",
    "\n",
    "# Save the ONNX model\n",
    "ort_model.save_pretrained(onnx_save_dir)"
   ]
  },
  {
   "cell_type": "code",
   "execution_count": 106,
   "metadata": {},
   "outputs": [],
   "source": [
    "# Step 4: Quantize the model\n",
    "from optimum.onnxruntime import AutoQuantizationConfig, ORTQuantizer\n",
    "\n",
    "# Load the fine-tuned ONNX model\n",
    "qconfig = AutoQuantizationConfig.avx512_vnni(is_static=False, per_channel=True)\n",
    "quantizer = ORTQuantizer.from_pretrained(onnx_save_dir)\n",
    "\n",
    "# Quantize the model\n",
    "quantizer.quantize(save_dir=\"distilbert_finetuned_quantized\", quantization_config=qconfig)\n",
    "\n",
    "# Load the quantized model\n",
    "quantized_model = ORTModelForSequenceClassification.from_pretrained(\"distilbert_finetuned_quantized\")"
   ]
  },
  {
   "cell_type": "code",
   "execution_count": 107,
   "metadata": {},
   "outputs": [
    {
     "name": "stdout",
     "output_type": "stream",
     "text": [
      "Fine-tuned model inference time: 0.0093 seconds\n",
      "ONNX model inference time: 0.0080 seconds\n",
      "Quantized model inference time: 0.0049 seconds\n"
     ]
    },
    {
     "data": {
      "image/png": "[encoded data removed]",
      "text/plain": [
       "<Figure size 800x600 with 1 Axes>"
      ]
     },
     "metadata": {},
     "output_type": "display_data"
    }
   ],
   "source": [
    "# Step 5: Measure Inference Time for Fine-tuned Model\n",
    "finetuned_model = pipeline(\"text-classification\", model=fine_tuned_model_dir)\n",
    "start_time = time.time()\n",
    "pred_finetuned = finetuned_model(\"I bought a new laptop\")\n",
    "finetuned_inference_time = time.time() - start_time\n",
    "print(f\"Fine-tuned model inference time: {finetuned_inference_time:.4f} seconds\")\n",
    "\n",
    "# Step 6: Measure Inference Time for ONNX Model\n",
    "onnx_clx = pipeline(\"text-classification\", model=onnx_save_dir, accelerator=\"ort\")\n",
    "start_time = time.time()\n",
    "pred_onnx = onnx_clx(\"I bought a new laptop\")\n",
    "onnx_inference_time = time.time() - start_time\n",
    "print(f\"ONNX model inference time: {onnx_inference_time:.4f} seconds\")\n",
    "\n",
    "# Step 7: Measure Inference Time for Quantized Model\n",
    "onnx_clx_quantized = pipeline(\"text-classification\", model=quantized_model, accelerator=\"ort\")\n",
    "start_time = time.time()\n",
    "pred_quantized = onnx_clx_quantized(\"I bought a new laptop\")\n",
    "quantized_inference_time = time.time() - start_time\n",
    "print(f\"Quantized model inference time: {quantized_inference_time:.4f} seconds\")\n",
    "\n",
    "# Step 8: Compare and Graph Inference Times\n",
    "models = ['Fine-tuned', 'ONNX', 'Quantized']\n",
    "inference_times = [finetuned_inference_time, onnx_inference_time, quantized_inference_time]\n",
    "\n",
    "plt.figure(figsize=(8, 6))\n",
    "plt.bar(models, inference_times, color=['blue', 'green', 'red'])\n",
    "plt.xlabel('Model Type')\n",
    "plt.ylabel('Inference Time (seconds)')\n",
    "plt.title('Inference Time Comparison: Fine-tuned Model vs ONNX vs Quantized Models')\n",
    "plt.show()"
   ]
  },
  {
   "cell_type": "markdown",
   "metadata": {},
   "source": [
    "# Apply the model over 100 descriptions to have more exactitude with inference time:"
   ]
  },
  {
   "cell_type": "code",
   "execution_count": 95,
   "metadata": {},
   "outputs": [
    {
     "data": {
      "image/png": "[encoded data removed]",
      "text/plain": [
       "<Figure size 800x600 with 1 Axes>"
      ]
     },
     "metadata": {},
     "output_type": "display_data"
    },
    {
     "name": "stdout",
     "output_type": "stream",
     "text": [
      "Fine-tuned model CPU usage: 64.50%\n",
      "ONNX model CPU usage: 55.70%\n",
      "Quantized model CPU usage: 55.90%\n"
     ]
    }
   ],
   "source": [
    "import time\n",
    "import psutil\n",
    "import matplotlib.pyplot as plt\n",
    "from transformers import pipeline\n",
    "import numpy as np\n",
    "\n",
    "# Step 1: Define the list of 100 different descriptions for testing\n",
    "descriptions = [\n",
    "    \"I bought a new laptop\", \"The car needs repairs\", \"She sold her old phone\", \"He purchased a new TV\",\n",
    "    \"They are selling their house\", \"I sold my old bicycle\", \"Bought groceries today\", \"She bought a new dress\",\n",
    "    \"I got a new job\", \"He invested in stocks\", \"She bought a new book\", \"They rented an apartment\",\n",
    "    \"I purchased a gaming console\", \"He sold his camera\", \"She upgraded her phone\", \"They bought a dog\",\n",
    "    \"I got a promotion at work\", \"He purchased a plane ticket\", \"She bought a new sofa\", \"They sold their old car\",\n",
    "    \"I bought a smartwatch\", \"He is buying a new house\", \"She sold her jewelry\", \"They invested in real estate\",\n",
    "    \"I got a new pair of shoes\", \"He bought a gym membership\", \"She purchased a bike\", \"They sold their furniture\",\n",
    "    \"I invested in cryptocurrency\", \"He bought a new smartphone\", \"She sold her paintings\", \"They are buying a yacht\",\n",
    "    \"I bought concert tickets\", \"He purchased a gaming chair\", \"She sold her old furniture\", \"They bought a new fridge\",\n",
    "    \"I got a new tablet\", \"He sold his old laptop\", \"She bought a fancy watch\", \"They purchased a vacation package\",\n",
    "    \"I sold my old car\", \"He bought a car insurance plan\", \"She got a new haircut\", \"They bought new curtains\",\n",
    "    \"I purchased a pair of sunglasses\", \"He is selling his artwork\", \"She bought a coffee maker\", \"They sold their antique clock\",\n",
    "    \"I invested in mutual funds\", \"He purchased a camping tent\"\n",
    "]\n",
    "\n",
    "# Step 2: Measure CPU usage and inference time for Fine-tuned Model, ONNX Model, and Quantized Model\n",
    "def measure_inference_time_and_cpu(model, text_list):\n",
    "    cpu_before = psutil.cpu_percent()\n",
    "    start_time = time.time()\n",
    "    predictions = [model(text) for text in text_list]\n",
    "    inference_time = time.time() - start_time\n",
    "    cpu_after = psutil.cpu_percent()\n",
    "    cpu_usage = cpu_after - cpu_before\n",
    "    return inference_time, cpu_usage, predictions\n",
    "\n",
    "\n",
    "# Measure inference time and CPU usage for Fine-tuned model\n",
    "finetuned_inference_time, finetuned_cpu_usage, predictions_finetuned_model = measure_inference_time_and_cpu(finetuned_model, descriptions)\n",
    "\n",
    "# Measure inference time and CPU usage for ONNX model\n",
    "onnx_inference_time, onnx_cpu_usage, predictions_onnx_clx = measure_inference_time_and_cpu(onnx_clx, descriptions)\n",
    "\n",
    "# Measure inference time and CPU usage for Quantized model\n",
    "quantized_inference_time, quantized_cpu_usage, predictions_onnx_clx_quantized = measure_inference_time_and_cpu(onnx_clx_quantized, descriptions)\n",
    "\n",
    "# Step 4: Create Scatter Plot Comparing Time for One Prediction and Complete Process\n",
    "labels = ['Fine-tuned', 'ONNX', 'Quantized']\n",
    "times_for_one = [finetuned_inference_time / len(descriptions), onnx_inference_time / len(descriptions), quantized_inference_time / len(descriptions)]\n",
    "times_for_all = [finetuned_inference_time, onnx_inference_time, quantized_inference_time]\n",
    "\n",
    "# Create a scatter plot for comparison\n",
    "plt.figure(figsize=(8, 6))\n",
    "plt.scatter(labels, times_for_one, color='blue', label='One Prediction')\n",
    "plt.scatter(labels, times_for_all, color='red', label='Complete Process')\n",
    "\n",
    "plt.xlabel('Model Type')\n",
    "plt.ylabel('Inference Time (seconds)')\n",
    "plt.title('Inference Time Comparison: Fine-tuned vs ONNX vs Quantized Models')\n",
    "plt.legend()\n",
    "plt.show()\n",
    "\n",
    "# Step 5: Output CPU Usage\n",
    "print(f\"Fine-tuned model CPU usage: {finetuned_cpu_usage:.2f}%\")\n",
    "print(f\"ONNX model CPU usage: {onnx_cpu_usage:.2f}%\")\n",
    "print(f\"Quantized model CPU usage: {quantized_cpu_usage:.2f}%\")\n"
   ]
  },
  {
   "cell_type": "code",
   "execution_count": 108,
   "metadata": {},
   "outputs": [
    {
     "data": {
      "text/plain": [
       "500"
      ]
     },
     "execution_count": 108,
     "metadata": {},
     "output_type": "execute_result"
    }
   ],
   "source": [
    "len(descriptions)"
   ]
  },
  {
   "cell_type": "code",
   "execution_count": 14,
   "metadata": {},
   "outputs": [],
   "source": [
    "import time\n",
    "import psutil\n",
    "import torch\n",
    "from transformers import pipeline\n",
    "import matplotlib.pyplot as plt\n",
    "\n",
    "# Function to get GPU usage (if available)\n",
    "def get_gpu_usage():\n",
    "    if torch.cuda.is_available():\n",
    "        return torch.cuda.memory_allocated(), torch.cuda.memory_cached()\n",
    "    else:\n",
    "        return None, None\n",
    "\n",
    "# Function to measure CPU usage\n",
    "def get_cpu_usage():\n",
    "    return psutil.cpu_percent()\n",
    "\n",
    "# List of descriptions (you can modify this list to match your dataset)\n",
    "descriptions = [\n",
    "    \"I bought a new laptop\", \"The car needs repairs\", \"She sold her old phone\", \"He purchased a new TV\",\n",
    "    \"They are selling their house\", \"I sold my old bicycle\", \"Bought groceries today\", \"She bought a new dress\",\n",
    "    \"I got a new job\", \"He invested in stocks\", \"She bought a new book\", \"They rented an apartment\",\n",
    "    \"I purchased a gaming console\", \"He sold his camera\", \"She upgraded her phone\", \"They bought a dog\",\n",
    "    \"I got a promotion at work\", \"He purchased a plane ticket\", \"She bought a new sofa\", \"They sold their old car\",\n",
    "    \"I bought a smartwatch\", \"He is buying a new house\", \"She sold her jewelry\", \"They invested in real estate\",\n",
    "    \"I got a new pair of shoes\", \"He bought a gym membership\", \"She purchased a bike\", \"They sold their furniture\",\n",
    "    \"I invested in cryptocurrency\", \"He bought a new smartphone\", \"She sold her paintings\", \"They are buying a yacht\",\n",
    "    \"I bought concert tickets\", \"He purchased a gaming chair\", \"She sold her old furniture\", \"They bought a new fridge\",\n",
    "    \"I got a new tablet\", \"He sold his old laptop\", \"She bought a fancy watch\", \"They purchased a vacation package\",\n",
    "    \"I sold my old car\", \"He bought a car insurance plan\", \"She got a new haircut\", \"They bought new curtains\",\n",
    "    \"I purchased a pair of sunglasses\", \"He is selling his artwork\", \"She bought a coffee maker\", \"They sold their antique clock\",\n",
    "    \"I invested in mutual funds\", \"He purchased a camping tent\"\n",
    "]\n",
    "\n",
    "# Function to make prediction and print GPU usage for each model\n",
    "def make_prediction(model, description):\n",
    "    \n",
    "    # Start time for inference\n",
    "    start_time = time.time()\n",
    "    \n",
    "    # Make prediction\n",
    "    prediction = model(description)\n",
    "    \n",
    "    # Calculate inference time\n",
    "    inference_time = time.time() - start_time\n",
    "    \n",
    "    return prediction, inference_time\n",
    "\n",
    "# Step 2: Run predictions for each model and each description\n",
    "finetuned_inference_times = []\n",
    "onnx_inference_times = []\n",
    "quantized_inference_times = []\n",
    "\n",
    "predictions_finetuned = []\n",
    "predictions_usage_onnx = []\n",
    "predictions_quantized = []"
   ]
  },
  {
   "cell_type": "code",
   "execution_count": 42,
   "metadata": {},
   "outputs": [],
   "source": [
    "def model_predict(model, list_descriptions: list):\n",
    "    \n",
    "    list_prediction = []\n",
    "    list_inference_time = []\n",
    "    \n",
    "    for desc in list_descriptions:\n",
    "        prediction, inference_time = make_prediction(model, desc)\n",
    "        list_prediction.append(prediction)\n",
    "        list_inference_time.append(inference_time)\n",
    "    \n",
    "    list_prediction_clean = [item[0] for item in list_prediction]\n",
    "        \n",
    "    return list_prediction_clean, list_inference_time"
   ]
  },
  {
   "cell_type": "code",
   "execution_count": 44,
   "metadata": {},
   "outputs": [],
   "source": [
    "list_finetuned_model, list_inference_finetuned_model = model_predict(finetuned_model, descriptions)\n",
    "list_onnx_clx, list_inference_onnx_clx = model_predict(onnx_clx, descriptions)\n",
    "list_onnx_clx_quantized, list_inference_onnx_clx_quantized = model_predict(onnx_clx_quantized, descriptions)\n"
   ]
  },
  {
   "cell_type": "code",
   "execution_count": 72,
   "metadata": {},
   "outputs": [],
   "source": [
    "df_predicted_fine_tunned_model = pd.DataFrame(list_finetuned_model)\n",
    "df_predicted_onnx_clx = pd.DataFrame(list_onnx_clx)\n",
    "df_predicted_onnx_clx_quantized = pd.DataFrame(list_onnx_clx_quantized)\n",
    "\n",
    "label_fine_tunned_model = df_predicted_fine_tunned_model['label']\n",
    "label_onnx_clx = df_predicted_onnx_clx['label']\n",
    "label_onnx_clx_quantized = df_predicted_onnx_clx_quantized['label']"
   ]
  },
  {
   "cell_type": "code",
   "execution_count": 76,
   "metadata": {},
   "outputs": [],
   "source": [
    "df_predicted = pd.DataFrame({'label_fine_tunned_model':label_fine_tunned_model\n",
    "                             ,'label_onnx_clx': label_onnx_clx\n",
    "                             ,'label_onnx_clx_quantized': label_onnx_clx_quantized\n",
    "                             ,'description': descriptions}\n",
    "                            , columns = ['description','label_fine_tunned_model','label_onnx_clx','label_onnx_clx_quantized', ])"
   ]
  },
  {
   "cell_type": "code",
   "execution_count": 80,
   "metadata": {},
   "outputs": [],
   "source": [
    "df_predicted['SAME_LABEL'] = (df_predicted['label_fine_tunned_model']==df_predicted['label_onnx_clx'])&(df_predicted['label_onnx_clx']==df_predicted['label_onnx_clx_quantized'])"
   ]
  },
  {
   "cell_type": "code",
   "execution_count": 82,
   "metadata": {},
   "outputs": [
    {
     "data": {
      "text/plain": [
       "SAME_LABEL\n",
       "True     0.86\n",
       "False    0.14\n",
       "Name: proportion, dtype: float64"
      ]
     },
     "execution_count": 82,
     "metadata": {},
     "output_type": "execute_result"
    }
   ],
   "source": [
    "df_predicted['SAME_LABEL'].value_counts(normalize=True)"
   ]
  },
  {
   "cell_type": "code",
   "execution_count": 83,
   "metadata": {},
   "outputs": [
    {
     "data": {
      "text/html": [
       "<div>\n",
       "<style scoped>\n",
       "    .dataframe tbody tr th:only-of-type {\n",
       "        vertical-align: middle;\n",
       "    }\n",
       "\n",
       "    .dataframe tbody tr th {\n",
       "        vertical-align: top;\n",
       "    }\n",
       "\n",
       "    .dataframe thead th {\n",
       "        text-align: right;\n",
       "    }\n",
       "</style>\n",
       "<table border=\"1\" class=\"dataframe\">\n",
       "  <thead>\n",
       "    <tr style=\"text-align: right;\">\n",
       "      <th></th>\n",
       "      <th>description</th>\n",
       "      <th>label_fine_tunned_model</th>\n",
       "      <th>label_onnx_clx</th>\n",
       "      <th>label_onnx_clx_quantized</th>\n",
       "      <th>SAME_LABEL</th>\n",
       "    </tr>\n",
       "  </thead>\n",
       "  <tbody>\n",
       "    <tr>\n",
       "      <th>10</th>\n",
       "      <td>She bought a new book</td>\n",
       "      <td>LABEL_0</td>\n",
       "      <td>LABEL_0</td>\n",
       "      <td>LABEL_1</td>\n",
       "      <td>False</td>\n",
       "    </tr>\n",
       "    <tr>\n",
       "      <th>13</th>\n",
       "      <td>He sold his camera</td>\n",
       "      <td>LABEL_1</td>\n",
       "      <td>LABEL_1</td>\n",
       "      <td>LABEL_0</td>\n",
       "      <td>False</td>\n",
       "    </tr>\n",
       "    <tr>\n",
       "      <th>19</th>\n",
       "      <td>They sold their old car</td>\n",
       "      <td>LABEL_1</td>\n",
       "      <td>LABEL_1</td>\n",
       "      <td>LABEL_0</td>\n",
       "      <td>False</td>\n",
       "    </tr>\n",
       "    <tr>\n",
       "      <th>23</th>\n",
       "      <td>They invested in real estate</td>\n",
       "      <td>LABEL_0</td>\n",
       "      <td>LABEL_0</td>\n",
       "      <td>LABEL_1</td>\n",
       "      <td>False</td>\n",
       "    </tr>\n",
       "    <tr>\n",
       "      <th>30</th>\n",
       "      <td>She sold her paintings</td>\n",
       "      <td>LABEL_0</td>\n",
       "      <td>LABEL_0</td>\n",
       "      <td>LABEL_1</td>\n",
       "      <td>False</td>\n",
       "    </tr>\n",
       "    <tr>\n",
       "      <th>34</th>\n",
       "      <td>She sold her old furniture</td>\n",
       "      <td>LABEL_1</td>\n",
       "      <td>LABEL_1</td>\n",
       "      <td>LABEL_0</td>\n",
       "      <td>False</td>\n",
       "    </tr>\n",
       "    <tr>\n",
       "      <th>43</th>\n",
       "      <td>They bought new curtains</td>\n",
       "      <td>LABEL_0</td>\n",
       "      <td>LABEL_0</td>\n",
       "      <td>LABEL_1</td>\n",
       "      <td>False</td>\n",
       "    </tr>\n",
       "  </tbody>\n",
       "</table>\n",
       "</div>"
      ],
      "text/plain": [
       "                     description label_fine_tunned_model label_onnx_clx  \\\n",
       "10         She bought a new book                 LABEL_0        LABEL_0   \n",
       "13            He sold his camera                 LABEL_1        LABEL_1   \n",
       "19       They sold their old car                 LABEL_1        LABEL_1   \n",
       "23  They invested in real estate                 LABEL_0        LABEL_0   \n",
       "30        She sold her paintings                 LABEL_0        LABEL_0   \n",
       "34    She sold her old furniture                 LABEL_1        LABEL_1   \n",
       "43      They bought new curtains                 LABEL_0        LABEL_0   \n",
       "\n",
       "   label_onnx_clx_quantized  SAME_LABEL  \n",
       "10                  LABEL_1       False  \n",
       "13                  LABEL_0       False  \n",
       "19                  LABEL_0       False  \n",
       "23                  LABEL_1       False  \n",
       "30                  LABEL_1       False  \n",
       "34                  LABEL_0       False  \n",
       "43                  LABEL_1       False  "
      ]
     },
     "execution_count": 83,
     "metadata": {},
     "output_type": "execute_result"
    }
   ],
   "source": [
    "df_predicted[df_predicted['SAME_LABEL']==False]"
   ]
  },
  {
   "cell_type": "code",
   "execution_count": 114,
   "metadata": {},
   "outputs": [
    {
     "data": {
      "text/plain": [
       "label_fine_tunned_model\n",
       "LABEL_1    0.72\n",
       "LABEL_0    0.28\n",
       "Name: proportion, dtype: float64"
      ]
     },
     "execution_count": 114,
     "metadata": {},
     "output_type": "execute_result"
    }
   ],
   "source": [
    "df_predicted['label_fine_tunned_model'].value_counts(normalize=True)"
   ]
  },
  {
   "cell_type": "code",
   "execution_count": 115,
   "metadata": {},
   "outputs": [
    {
     "data": {
      "text/plain": [
       "label_onnx_clx\n",
       "LABEL_1    0.72\n",
       "LABEL_0    0.28\n",
       "Name: proportion, dtype: float64"
      ]
     },
     "execution_count": 115,
     "metadata": {},
     "output_type": "execute_result"
    }
   ],
   "source": [
    "df_predicted['label_onnx_clx'].value_counts(normalize=True)"
   ]
  },
  {
   "cell_type": "code",
   "execution_count": 116,
   "metadata": {},
   "outputs": [
    {
     "data": {
      "text/plain": [
       "label_onnx_clx_quantized\n",
       "LABEL_1    0.74\n",
       "LABEL_0    0.26\n",
       "Name: proportion, dtype: float64"
      ]
     },
     "execution_count": 116,
     "metadata": {},
     "output_type": "execute_result"
    }
   ],
   "source": [
    "df_predicted['label_onnx_clx_quantized'].value_counts(normalize=True)"
   ]
  },
  {
   "cell_type": "markdown",
   "metadata": {},
   "source": [
    "# Al aplicar quantización al modelo, cambiaron el 14% de las categorías que el modelo predijo."
   ]
  },
  {
   "cell_type": "code",
   "execution_count": 113,
   "metadata": {},
   "outputs": [
    {
     "data": {
      "image/png": "[encoded data removed]",
      "text/plain": [
       "<Figure size 1000x600 with 1 Axes>"
      ]
     },
     "metadata": {},
     "output_type": "display_data"
    }
   ],
   "source": [
    "# Specify the columns to analyze\n",
    "columns_to_analyze = [\"label_fine_tunned_model\", \"label_onnx_clx\", \"label_onnx_clx_quantized\"]\n",
    "\n",
    "# Count the label distribution for each model\n",
    "label_counts = {col: df_predicted[col].value_counts() for col in columns_to_analyze}\n",
    "\n",
    "# Convert to a single DataFrame for easier plotting\n",
    "distribution_df = pd.DataFrame(label_counts).fillna(0)\n",
    "distribution_df = distribution_df.T\n",
    "\n",
    "# Plot a stacked bar chart\n",
    "distribution_df.plot(kind='bar', stacked=True, figsize=(10, 6), color=['#1f77b4', '#ff7f0e', '#2ca02c'])\n",
    "\n",
    "# Add labels and title\n",
    "plt.title(\"Label Distribution by Model (Stacked)\")\n",
    "plt.xlabel(\"Labels\")\n",
    "plt.ylabel(\"Frequency\")\n",
    "plt.legend(title=\"Models\")\n",
    "plt.xticks(rotation=0)\n",
    "plt.show()"
   ]
  },
  {
   "cell_type": "code",
   "execution_count": 112,
   "metadata": {},
   "outputs": [
    {
     "data": {
      "text/html": [
       "<div>\n",
       "<style scoped>\n",
       "    .dataframe tbody tr th:only-of-type {\n",
       "        vertical-align: middle;\n",
       "    }\n",
       "\n",
       "    .dataframe tbody tr th {\n",
       "        vertical-align: top;\n",
       "    }\n",
       "\n",
       "    .dataframe thead th {\n",
       "        text-align: right;\n",
       "    }\n",
       "</style>\n",
       "<table border=\"1\" class=\"dataframe\">\n",
       "  <thead>\n",
       "    <tr style=\"text-align: right;\">\n",
       "      <th></th>\n",
       "      <th>label_fine_tunned_model</th>\n",
       "      <th>label_onnx_clx</th>\n",
       "      <th>label_onnx_clx_quantized</th>\n",
       "    </tr>\n",
       "  </thead>\n",
       "  <tbody>\n",
       "    <tr>\n",
       "      <th>LABEL_1</th>\n",
       "      <td>36</td>\n",
       "      <td>36</td>\n",
       "      <td>37</td>\n",
       "    </tr>\n",
       "    <tr>\n",
       "      <th>LABEL_0</th>\n",
       "      <td>14</td>\n",
       "      <td>14</td>\n",
       "      <td>13</td>\n",
       "    </tr>\n",
       "  </tbody>\n",
       "</table>\n",
       "</div>"
      ],
      "text/plain": [
       "         label_fine_tunned_model  label_onnx_clx  label_onnx_clx_quantized\n",
       "LABEL_1                       36              36                        37\n",
       "LABEL_0                       14              14                        13"
      ]
     },
     "execution_count": 112,
     "metadata": {},
     "output_type": "execute_result"
    }
   ],
   "source": [
    "distribution_df"
   ]
  },
  {
   "cell_type": "code",
   "execution_count": null,
   "metadata": {},
   "outputs": [],
   "source": []
  }
 ],
 "metadata": {
  "kernelspec": {
   "display_name": "venv",
   "language": "python",
   "name": "python3"
  },
  "language_info": {
   "codemirror_mode": {
    "name": "ipython",
    "version": 3
   },
   "file_extension": ".py",
   "mimetype": "text/x-python",
   "name": "python",
   "nbconvert_exporter": "python",
   "pygments_lexer": "ipython3",
   "version": "3.9.19"
  }
 },
 "nbformat": 4,
 "nbformat_minor": 2
}
